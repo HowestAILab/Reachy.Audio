{
 "cells": [
  {
   "cell_type": "markdown",
   "metadata": {},
   "source": [
    "`sudo apt-get install python-pyaudio`"
   ]
  },
  {
   "cell_type": "code",
   "execution_count": 2,
   "metadata": {},
   "outputs": [],
   "source": [
    "import pyaudio\n",
    "import wave"
   ]
  },
  {
   "cell_type": "code",
   "execution_count": 3,
   "metadata": {},
   "outputs": [],
   "source": [
    "p = pyaudio.PyAudio()\n",
    "info = p.get_host_api_info_by_index(0)\n",
    "numdevices = info.get('deviceCount')"
   ]
  },
  {
   "cell_type": "code",
   "execution_count": 4,
   "metadata": {},
   "outputs": [
    {
     "name": "stdout",
     "output_type": "stream",
     "text": [
      "Input Device id 0 - ReSpeaker 4 Mic Array (UAC1.0): USB Audio (hw:2,0)\n"
     ]
    }
   ],
   "source": [
    "for i in range(0, numdevices):\n",
    "        if (p.get_device_info_by_host_api_device_index(0, i).get('maxInputChannels')) > 0:\n",
    "            print(f\"Input Device id {i} - \" + p.get_device_info_by_host_api_device_index(0, i).get('name'))"
   ]
  },
  {
   "cell_type": "code",
   "execution_count": 5,
   "metadata": {},
   "outputs": [],
   "source": [
    "RESPEAKER_RATE = 16000\n",
    "RESPEAKER_CHANNELS = 2 # change base on firmwares, 1_channel_firmware.bin as 1 or 6_channels_firmware.bin as 6\n",
    "RESPEAKER_WIDTH = 2\n",
    "# run getDeviceInfo.py to get index\n",
    "RESPEAKER_INDEX = 0  # refer to input device id\n",
    "CHUNK = 512"
   ]
  },
  {
   "cell_type": "code",
   "execution_count": 6,
   "metadata": {},
   "outputs": [],
   "source": [
    "WAVE_OUTPUT_FILENAME = \"output.wav\""
   ]
  },
  {
   "cell_type": "code",
   "execution_count": 7,
   "metadata": {},
   "outputs": [],
   "source": [
    "RECORD_SECONDS = 5"
   ]
  },
  {
   "cell_type": "code",
   "execution_count": 8,
   "metadata": {},
   "outputs": [
    {
     "name": "stdout",
     "output_type": "stream",
     "text": [
      "* recording\n",
      "* done recording\n"
     ]
    }
   ],
   "source": [
    "stream = p.open(\n",
    "            rate=RESPEAKER_RATE,\n",
    "            format=p.get_format_from_width(RESPEAKER_WIDTH),\n",
    "            channels=RESPEAKER_CHANNELS,\n",
    "            input=True,\n",
    "            input_device_index=RESPEAKER_INDEX,)\n",
    " \n",
    "\n",
    "print(\"* recording\")\n",
    " \n",
    "frames = []\n",
    " \n",
    "for i in range(0, int(RESPEAKER_RATE / CHUNK * RECORD_SECONDS)):\n",
    "    try:\n",
    "        data = stream.read(CHUNK)\n",
    "        frames.append(data)\n",
    "    except IOError as ex:\n",
    "        if ex[1] != pyaudio.paInputOverflowed:\n",
    "            raise\n",
    "        data = '\\x00' * CHUNK  # or however you choose to handle it, e.g. return None\n",
    "    \n",
    "\n",
    "print(\"* done recording\")\n",
    " \n",
    "stream.stop_stream()\n",
    "stream.close()\n",
    "p.terminate()\n",
    " "
   ]
  },
  {
   "cell_type": "code",
   "execution_count": 9,
   "metadata": {},
   "outputs": [],
   "source": [
    "wf = wave.open(WAVE_OUTPUT_FILENAME, 'wb')\n",
    "wf.setnchannels(RESPEAKER_CHANNELS)\n",
    "wf.setsampwidth(p.get_sample_size(p.get_format_from_width(RESPEAKER_WIDTH)))\n",
    "wf.setframerate(RESPEAKER_RATE)\n",
    "wf.writeframes(b''.join(frames))\n",
    "wf.close()"
   ]
  },
  {
   "cell_type": "code",
   "execution_count": null,
   "metadata": {},
   "outputs": [],
   "source": [
    "import speech_recognition as sr"
   ]
  },
  {
   "cell_type": "code",
   "execution_count": null,
   "metadata": {},
   "outputs": [],
   "source": [
    "r = sr.Recognizer()"
   ]
  },
  {
   "cell_type": "code",
   "execution_count": null,
   "metadata": {},
   "outputs": [],
   "source": [
    "audio = b''.join(frames)"
   ]
  },
  {
   "cell_type": "code",
   "execution_count": null,
   "metadata": {},
   "outputs": [],
   "source": []
  }
 ],
 "metadata": {
  "kernelspec": {
   "display_name": "Python 3",
   "language": "python",
   "name": "python3"
  },
  "language_info": {
   "codemirror_mode": {
    "name": "ipython",
    "version": 3
   },
   "file_extension": ".py",
   "mimetype": "text/x-python",
   "name": "python",
   "nbconvert_exporter": "python",
   "pygments_lexer": "ipython3",
   "version": "3.7.3"
  }
 },
 "nbformat": 4,
 "nbformat_minor": 4
}
